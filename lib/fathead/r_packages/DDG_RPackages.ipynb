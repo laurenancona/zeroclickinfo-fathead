{
 "cells": [
  {
   "cell_type": "markdown",
   "metadata": {},
   "source": [
    "# Cran Scraping Overview\n",
    "\n",
    "The base url for all cran packages can be found [here](https://cran.r-project.org/web/packages/available_packages_by_name.html). A few general notes:\n",
    "1. Cran requests that a cannonical link be used when referencing the individual package sites. Abiding by there request I use this as the base link when referencing a package page. The cannonical url is: \n",
    "* https://cran.r-project.org/package=&lt;package_name>\n",
    "The literal url is (just for reference if it ever needs to be changed):\n",
    "* https://cran.r-project.org/web/packages/&lt;package_name&gt;/index.html\n",
    "2. The proces will first go to the base url:\n",
    "* https://cran.r-project.org/web/packages/available_packages_by_name.html\n",
    "From here it will find the summary table and go through each &lt;a&gt; tag and grab the href value (link). \n",
    "3. For each href it will visit the package page and scrape the necessary fields (title, abstract, etc.)"
   ]
  },
  {
   "cell_type": "code",
   "execution_count": 1,
   "metadata": {
    "collapsed": true
   },
   "outputs": [],
   "source": [
    "from bs4 import BeautifulSoup\n",
    "import urllib.request\n",
    "import re\n",
    "\n",
    "# base_url = \"https://cran.r-project.org/\"\n",
    "# cannonical base url for a given package\n",
    "base_url = \"https://cran.r-project.org/package=\"\n",
    "# lists all packages\n",
    "home_url = \"https://cran.r-project.org/web/packages/available_packages_by_name.html\"\n",
    "# make request to webpage\n",
    "response = urllib.request.urlopen(home_url)\n",
    "r = response.read()\n",
    "# make the soup (parse the page)\n",
    "soup = BeautifulSoup(r, 'html.parser')"
   ]
  },
  {
   "cell_type": "code",
   "execution_count": 4,
   "metadata": {
    "collapsed": false
   },
   "outputs": [],
   "source": [
    "# go to the table with the specified summary field\n",
    "# then find all <a> tags - one for each row\n",
    "package_table = soup.find('table', summary=\"Available CRAN packages by name.\").find_all('a')\n"
   ]
  },
  {
   "cell_type": "code",
   "execution_count": 2,
   "metadata": {
    "collapsed": false
   },
   "outputs": [],
   "source": [
    "# This is just a note in case the literal link needs to be used\n",
    "# the cannonical link doesn't require this level of processing\n",
    "################################################################\n",
    "\n",
    "# base_url = \"https://cran.r-project.org/\"\n",
    "# for packages in package_table:\n",
    "#     print(packages.get_text())\n",
    "#     print(re.sub('\\.\\./\\.\\./', base_url, packages.get('href')))"
   ]
  },
  {
   "cell_type": "code",
   "execution_count": 5,
   "metadata": {
    "collapsed": false
   },
   "outputs": [
    {
     "name": "stdout",
     "output_type": "stream",
     "text": [
      "https://cran.r-project.org/package=A3\n"
     ]
    }
   ],
   "source": [
    "# for each <a> (href) -> go to the page and scrape the contents which are needed\n",
    "# for the sake of this example I'm only taking the first package\n",
    "# just remove [0:1] below to go through all packages\n",
    "\n",
    "for package in package_table[0:1]:\n",
    "    package_url = base_url + package.get_text()\n",
    "    print(package_url)\n",
    "    response = urllib.request.urlopen(package_url)\n",
    "    r = response.read()\n",
    "    soup = BeautifulSoup(r, 'html.parser')"
   ]
  },
  {
   "cell_type": "markdown",
   "metadata": {},
   "source": [
    "1. Full Article Title\n",
    "2. Type of Entry: A - article, D - Disambiguation Pages (list of articles), R - Redirects\n",
    "3. Alias - (only applies to redirects)\n",
    "4. Empty field (put requires place holder)\n",
    "5. Categories - article can belong to multiple categories\n",
    "6. Empty field (requires place holder)\n",
    "7. Related Topics - list of links to be displayed\n",
    "8. Empty field\n",
    "9. External Links\n",
    "10. Content of disambiguation page (only applies to disambiguation pages)\n",
    "11. Image - link to image url\n",
    "12. Abstract - contains all content you wish to display\n",
    "13. URL - source domain\n",
    " "
   ]
  },
  {
   "cell_type": "code",
   "execution_count": 6,
   "metadata": {
    "collapsed": false
   },
   "outputs": [
    {
     "name": "stdout",
     "output_type": "stream",
     "text": [
      "'A3: Accurate, Adaptable, and Accessible Error Metrics for Predictive\\nModels'\t'A'\t\t'R Package'\t\t''\t\t''\t''\t''\t'Supplies tools for tabulating and analyzing the results of predictive models. The methods employed are applicable to virtually any predictive model and make comparisons between different methodologies straightforward.'\t'https://cran.r-project.org/package=A3'\n"
     ]
    }
   ],
   "source": [
    "article_title  = soup.find('body').find_all('h2')[0].get_text()\n",
    "entry_type     = 'A'\n",
    "category       = 'R Package' # not sure about this category part\n",
    "related_topics = '' # unsure about this since each package is different - would require manual knowledge of each package\n",
    "external_links = '' # vignetttes? / docs? (can be scraped off the page)\n",
    "disambig       = ''\n",
    "image_url      = ''\n",
    "abstract       = soup.find('body').find_all('p')[0].get_text()# site content\n",
    "source         = package_url\n",
    "\n",
    "# may need to replace the line return in the article title and or escape....\n",
    "print('%r\\t%r\\t\\t%r\\t\\t%r\\t\\t%r\\t%r\\t%r\\t%r\\t%r'% \n",
    "      (article_title, entry_type, category, related_topics,\n",
    "       external_links, disambig, image_url, abstract, source))\n"
   ]
  },
  {
   "cell_type": "code",
   "execution_count": 7,
   "metadata": {
    "collapsed": false
   },
   "outputs": [
    {
     "data": {
      "text/plain": [
       "<!DOCTYPE html PUBLIC \"-//W3C//DTD XHTML 1.0 Strict//EN\" \"http://www.w3.org/TR/xhtml1/DTD/xhtml1-strict.dtd\">\n",
       "\n",
       "<html xmlns=\"http://www.w3.org/1999/xhtml\">\n",
       "<head>\n",
       "<title>CRAN - Package A3</title>\n",
       "<link href=\"../../CRAN_web.css\" rel=\"stylesheet\" type=\"text/css\"/>\n",
       "<meta content=\"text/html; charset=utf-8\" http-equiv=\"Content-Type\"/>\n",
       "<style type=\"text/css\">\n",
       "  table td { vertical-align: top; }\n",
       "</style>\n",
       "</head>\n",
       "<body>\n",
       "<h2>A3: Accurate, Adaptable, and Accessible Error Metrics for Predictive\n",
       "Models</h2>\n",
       "<p>Supplies tools for tabulating and analyzing the results of predictive models. The methods employed are applicable to virtually any predictive model and make comparisons between different methodologies straightforward.</p>\n",
       "<table summary=\"Package A3 summary\">\n",
       "<tr>\n",
       "<td>Version:</td>\n",
       "<td>1.0.0</td>\n",
       "</tr>\n",
       "<tr>\n",
       "<td>Depends:</td>\n",
       "<td>R (≥ 2.15.0), <a href=\"../xtable/index.html\">xtable</a>, <a href=\"../pbapply/index.html\">pbapply</a></td>\n",
       "</tr>\n",
       "<tr>\n",
       "<td>Suggests:</td>\n",
       "<td><a href=\"../randomForest/index.html\">randomForest</a>, <a href=\"../e1071/index.html\">e1071</a></td>\n",
       "</tr>\n",
       "<tr>\n",
       "<td>Published:</td>\n",
       "<td>2015-08-16</td>\n",
       "</tr>\n",
       "<tr>\n",
       "<td>Author:</td>\n",
       "<td>Scott Fortmann-Roe</td>\n",
       "</tr>\n",
       "<tr>\n",
       "<td>Maintainer:</td>\n",
       "<td>Scott Fortmann-Roe  &lt;scottfr at berkeley.edu&gt;</td>\n",
       "</tr>\n",
       "<tr>\n",
       "<td>License:</td>\n",
       "<td><a href=\"../../licenses/GPL-2\">GPL-2</a> | <a href=\"../../licenses/GPL-3\">GPL-3</a> [expanded from: GPL (≥ 2)]</td>\n",
       "</tr>\n",
       "<tr>\n",
       "<td>NeedsCompilation:</td>\n",
       "<td>no</td>\n",
       "</tr>\n",
       "<tr>\n",
       "<td>Citation:</td>\n",
       "<td><a href=\"citation.html\">A3 citation info</a> </td>\n",
       "</tr>\n",
       "<tr>\n",
       "<td>Materials:</td>\n",
       "<td><a href=\"NEWS\">NEWS</a> </td>\n",
       "</tr>\n",
       "<tr>\n",
       "<td>CRAN checks:</td>\n",
       "<td><a href=\"../../checks/check_results_A3.html\">A3 results</a></td>\n",
       "</tr>\n",
       "</table>\n",
       "<h4>Downloads:</h4>\n",
       "<table summary=\"Package A3 downloads\">\n",
       "<tr>\n",
       "<td> Reference manual: </td>\n",
       "<td> <a href=\"A3.pdf\"> A3.pdf </a> </td>\n",
       "</tr>\n",
       "<tr>\n",
       "<td> Package source: </td>\n",
       "<td> <a href=\"../../../src/contrib/A3_1.0.0.tar.gz\"> A3_1.0.0.tar.gz </a> </td>\n",
       "</tr>\n",
       "<tr>\n",
       "<td> Windows binaries: </td>\n",
       "<td> r-devel: <a href=\"../../../bin/windows/contrib/3.4/A3_1.0.0.zip\">A3_1.0.0.zip</a>, r-release: <a href=\"../../../bin/windows/contrib/3.3/A3_1.0.0.zip\">A3_1.0.0.zip</a>, r-oldrel: <a href=\"../../../bin/windows/contrib/3.2/A3_1.0.0.zip\">A3_1.0.0.zip</a> </td>\n",
       "</tr>\n",
       "<tr>\n",
       "<td> OS X Mavericks binaries: </td>\n",
       "<td> r-release: <a href=\"../../../bin/macosx/mavericks/contrib/3.3/A3_1.0.0.tgz\">A3_1.0.0.tgz</a>, r-oldrel: <a href=\"../../../bin/macosx/mavericks/contrib/3.2/A3_1.0.0.tgz\">A3_1.0.0.tgz</a> </td>\n",
       "</tr>\n",
       "<tr>\n",
       "<td> Old sources: </td>\n",
       "<td> <a href=\"../../../src/contrib/Archive/A3\"> A3 archive </a> </td>\n",
       "</tr>\n",
       "</table>\n",
       "<h4>Linking:</h4>\n",
       "<p>Please use the canonical form\n",
       "<a href=\"https://CRAN.R-project.org/package=A3\"><samp>https://CRAN.R-project.org/package=A3</samp></a>\n",
       "to link to this page.</p>\n",
       "</body>\n",
       "</html>"
      ]
     },
     "execution_count": 7,
     "metadata": {},
     "output_type": "execute_result"
    }
   ],
   "source": [
    "# just in case you want to see what 'soup' looks like: its just the html of the page:\n",
    "soup"
   ]
  }
 ],
 "metadata": {
  "anaconda-cloud": {},
  "kernelspec": {
   "display_name": "Python [py35]",
   "language": "python",
   "name": "Python [py35]"
  },
  "language_info": {
   "codemirror_mode": {
    "name": "ipython",
    "version": 3
   },
   "file_extension": ".py",
   "mimetype": "text/x-python",
   "name": "python",
   "nbconvert_exporter": "python",
   "pygments_lexer": "ipython3",
   "version": "3.5.2"
  }
 },
 "nbformat": 4,
 "nbformat_minor": 0
}
